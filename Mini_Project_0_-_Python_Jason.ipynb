{
 "cells": [
  {
   "cell_type": "markdown",
   "metadata": {},
   "source": [
    "# Mini Project 0 - Python"
   ]
  },
  {
   "cell_type": "markdown",
   "metadata": {},
   "source": [
    "## Overview of the excercise 1:\n",
    "### Given below is list of numbers consisting of areas of multiple rectangles whose sides are integers\n",
    "<b> For example is X is an areas of the rectangle given by the forumla </b> <br> <br>\n",
    "<b> X = A * B </b> <br>\n",
    "##### here: <br>\n",
    "<b> A = Integer and B = Integer <br>"
   ]
  },
  {
   "cell_type": "code",
   "execution_count": 2,
   "metadata": {},
   "outputs": [
    {
     "name": "stdout",
     "output_type": "stream",
     "text": [
      "[1, 2, 3, 4, 5, 6, 7, 8, 9, 10, 11, 12, 13, 14, 15, 16, 17, 18, 19, 20, 21, 22, 23, 24, 25, 26, 27, 28, 29, 30, 31, 32, 33, 34, 35, 36, 37, 38, 39, 40, 41, 42, 43, 44, 45, 46, 47, 48, 49, 50, 51, 52, 53, 54, 55, 56, 57, 58, 59, 60, 61, 62, 63, 64, 65, 66, 67, 68, 69, 70, 71, 72, 73, 74, 75, 76, 77, 78, 79, 80, 81, 82, 83, 84, 85, 86, 87, 88, 89, 90, 91, 92, 93, 94, 95, 96, 97, 98, 99, 100]\n"
     ]
    }
   ],
   "source": [
    "rect_100 = list(range(100))\n",
    "rect_100 = [i + 1 for i in rect_100]\n",
    "print(rect_100)"
   ]
  },
  {
   "cell_type": "markdown",
   "metadata": {},
   "source": [
    "#### 1. Write a function to see if a given rectangle can be a given square (Hint: Check if the number is a perfect square) (Marks: 20)\n",
    "#### 2. Write a function to extract all rectangles that are square ((Hint: Use the function in step 1)  (Marks: 20)"
   ]
  },
  {
   "cell_type": "code",
   "execution_count": 13,
   "metadata": {},
   "outputs": [
    {
     "data": {
      "text/plain": [
       "False"
      ]
     },
     "execution_count": 13,
     "metadata": {},
     "output_type": "execute_result"
    }
   ],
   "source": [
    "def get_squares_check(n):\n",
    "    \n",
    "    root_check = round(n ** (1/2))\n",
    "    \n",
    "    if root_check ** 2 == n :\n",
    "        flag = True\n",
    "    else:\n",
    "        flag = False\n",
    "        \n",
    "    return flag\n",
    "\n",
    "get_squares_check(37)\n",
    "    "
   ]
  },
  {
   "cell_type": "code",
   "execution_count": 106,
   "metadata": {},
   "outputs": [],
   "source": [
    "#Write a function to check if a given rectangle is a perfect square \n",
    "def get_squares_check(n):\n",
    "    \n",
    "    #Calculate the square root of \"n\"\n",
    "    # Use the functionality of power using \"**\" to get the square root\n",
    "    \n",
    "    # Use the in built function \"round\" to round of the square root to an integer\n",
    "    #Round the square root to an integer\n",
    "    \n",
    "    #Check if the square of the rounded square root of number \"n\" is the same as \"n\"\n",
    "        #If the value is same assign \"True\" as value to sqr_flag\n",
    "        #If the value is not the same assign \"False\" as value to sqr_flag\n",
    "    \n",
    "    return flag\n",
    "\n"
   ]
  },
  {
   "cell_type": "code",
   "execution_count": 15,
   "metadata": {},
   "outputs": [
    {
     "data": {
      "text/plain": [
       "[1, 4, 9, 16, 25, 36, 49, 64, 81, 100]"
      ]
     },
     "execution_count": 15,
     "metadata": {},
     "output_type": "execute_result"
    }
   ],
   "source": [
    "#Extact the list of squared rectangles \n",
    "def get_square_list(num_list):\n",
    "\n",
    "    #Create an empty list to save the squared rectangles\n",
    "    square_list = []\n",
    "    #Iterate between all the rectangular areas in the list\n",
    "    for value in num_list:\n",
    "        #Check if the rectangule is a square using the function 'get_squares_check\" declared above\n",
    "        if get_squares_check (value):\n",
    "            square_list.append(value)\n",
    "        #Check if the value of the sqr_check is True   \n",
    "\n",
    "            #If value of the prime_check is True then append \"n\" to the sqr_list declared earlier\n",
    "            \n",
    "    return square_list\n",
    "\n",
    "rect_100 = list(range(100))\n",
    "rect_100 = [i + 1 for i in rect_100]\n",
    "\n",
    "get_square_list(rect_100)\n",
    "\n"
   ]
  },
  {
   "cell_type": "markdown",
   "metadata": {},
   "source": [
    "## Overview of the excercise 2:\n",
    "#### Given below is list of numbers\n",
    "####  1. Write a function to check if a number is a prime number (Marks: 20)\n",
    "####  2. Write a function to determine all the prime numbers in the list  (Marks: 20) \n"
   ]
  },
  {
   "cell_type": "code",
   "execution_count": 78,
   "metadata": {},
   "outputs": [],
   "source": [
    "apple_qty = [2,233,160,23,181,156,289,70,39,122,40,93,21,204,185,253,267,139,190,286,270,13,273,\n",
    "             79,176,259,290,83,278,111,221,20,242,49,295,256,186,46,268,161,164,108,244,26,\n",
    "             227,249,157,19,33,43,129,84,165,182,87,159,37,231,191,128,110,197,228,279,239,22,\n",
    "             36,169,275,133,94,293,140,112,291,206,288,262,104,296,32,16,299,116,237,178,229,45,\n",
    "             69,135,67,98,209,28,114,294,95,89,138,211,109]\n",
    "    "
   ]
  },
  {
   "cell_type": "code",
   "execution_count": 1,
   "metadata": {},
   "outputs": [
    {
     "data": {
      "text/plain": [
       "False"
      ]
     },
     "execution_count": 1,
     "metadata": {},
     "output_type": "execute_result"
    }
   ],
   "source": [
    "#define a function to return all the prime numbers for number greater than 2\n",
    "def get_prime_check(n):\n",
    "    \n",
    "    prime_flag = False\n",
    "    \n",
    "    if n > 2:\n",
    "        \n",
    "        for i in range(2, n):\n",
    "            if n % i == 0:\n",
    "                break\n",
    "                \n",
    "        else:\n",
    "            prime_flag = True\n",
    "            return prime_flag\n",
    "    \n",
    "    return prime_flag\n",
    "\n",
    "get_prime_check (566)\n",
    "#Get the square root of the number \"n\" and take it's ceiling\n",
    "# Use the functionality of power using \"**\" to get the square root\n",
    "\n",
    "#Create an empty flag with value as \"False\"\n",
    "\n",
    "#Iterate between 2 and (n_sqrt+1) iterated to check if the number is a prime number \n",
    "\n",
    "#Check if the remainder upon dividing the number \"n\" with the iterative number \"i\" is zero\n",
    "                        \n",
    "#If zero then remainder is 0, then chnage the prime flag to false else to true\n",
    "\n",
    "#Return the flag that checks if a number is prime "
   ]
  },
  {
   "cell_type": "code",
   "execution_count": 83,
   "metadata": {},
   "outputs": [
    {
     "data": {
      "text/plain": [
       "[233,\n",
       " 23,\n",
       " 181,\n",
       " 139,\n",
       " 13,\n",
       " 79,\n",
       " 83,\n",
       " 227,\n",
       " 157,\n",
       " 19,\n",
       " 43,\n",
       " 37,\n",
       " 191,\n",
       " 197,\n",
       " 239,\n",
       " 293,\n",
       " 229,\n",
       " 67,\n",
       " 89,\n",
       " 211,\n",
       " 109]"
      ]
     },
     "execution_count": 83,
     "metadata": {},
     "output_type": "execute_result"
    }
   ],
   "source": [
    "#define a function to return all the prime numbers for number greater than 2\n",
    "def get_prime_list(num_list):\n",
    "    \n",
    "    prime_list = []\n",
    "    \n",
    "    for num in num_list:\n",
    "        if num == 1:\n",
    "            pass\n",
    "        if num == 2:\n",
    "            pass\n",
    "        if get_prime_check(num):\n",
    "            prime_list.append(num)\n",
    "            \n",
    "    \n",
    "    return prime_list\n",
    "\n",
    "get_prime_list (apple_qty)\n",
    "#Create an empty list to save the prime numbers iterated\n",
    "\n",
    "    #Iterate between all the numbers in the list\n",
    "\n",
    "        #If \"n\" == 1 then skip the iteration then move to the next number in sequence using the \"pass\" statement\n",
    "\n",
    "        #If \"n\" == 2 then add it to the prime_list and skip the iteration to move to the next number in sequence\n",
    "\n",
    "        #Use the \"get_prime_check\" function to check if numbers greater than 2 are prime \n",
    "\n",
    "            #Check if the number is prime\n",
    "\n",
    "            #Check the value of the prime_check is True   \n",
    "\n",
    "                #If value of the prime_check is True then append \"n\" to the prime_list declared earlier\n",
    "\n"
   ]
  },
  {
   "cell_type": "code",
   "execution_count": 5,
   "metadata": {},
   "outputs": [],
   "source": [
    "a={1:'a',2:'b',3:'c'}\n",
    "b=[1,2,3,4]"
   ]
  },
  {
   "cell_type": "code",
   "execution_count": 6,
   "metadata": {},
   "outputs": [
    {
     "name": "stdout",
     "output_type": "stream",
     "text": [
      "a\n"
     ]
    }
   ],
   "source": [
    "print(a[1])"
   ]
  },
  {
   "cell_type": "code",
   "execution_count": 9,
   "metadata": {},
   "outputs": [],
   "source": [
    "a[2]=\"e\""
   ]
  },
  {
   "cell_type": "code",
   "execution_count": 12,
   "metadata": {},
   "outputs": [
    {
     "name": "stdout",
     "output_type": "stream",
     "text": [
      "{1: 'a', 2: 'e', 3: 'c', 4: 'd', 6: [1, 2, 3, 4]}\n"
     ]
    }
   ],
   "source": [
    "a[6]=b\n",
    "print(a)"
   ]
  },
  {
   "cell_type": "code",
   "execution_count": 14,
   "metadata": {},
   "outputs": [
    {
     "data": {
      "text/plain": [
       "{}"
      ]
     },
     "execution_count": 14,
     "metadata": {},
     "output_type": "execute_result"
    }
   ],
   "source": [
    "dict={}\n",
    "dict"
   ]
  },
  {
   "cell_type": "markdown",
   "metadata": {},
   "source": [
    "### The two list consists of Birthdays (DOB_List) of the research scientists (Name_List) in the same order\n",
    "\n",
    "#### 1. Build a dictionary that holds the scientist name as key and their DOB as their values  (Marks: 10)\n",
    "#### 2. Create a dictionary consisting of the approximate age of the scientists today in years (use only years)  (Marks: 10)"
   ]
  },
  {
   "cell_type": "code",
   "execution_count": 92,
   "metadata": {},
   "outputs": [],
   "source": [
    "dob_list = ['01-Jan-1990', '11-Aug-1995', '15-Apr-1982', '20-Mar-1988', '25-Nov-1976', '07-Dec-1965', \n",
    "            '18-Dec-1977', '25-May-1994', '09-Oct-1981', '19-Feb-1981']\n",
    "name_list = ['Aaron','Ben','Don','Grisham','Harry','John','Tom','Peter','Steve','Bruce']"
   ]
  },
  {
   "cell_type": "code",
   "execution_count": 2,
   "metadata": {},
   "outputs": [
    {
     "name": "stdout",
     "output_type": "stream",
     "text": [
      "{'Aaron': '01-Jan-1990', 'Ben': '11-Aug-1995', 'Don': '15-Apr-1982', 'Grisham': '20-Mar-1988', 'Harry': '25-Nov-1976', 'John': '07-Dec-1965', 'Tom': '18-Dec-1977', 'Peter': '25-May-1994', 'Steve': '09-Oct-1981', 'Bruce': '19-Feb-1981'}\n"
     ]
    }
   ],
   "source": [
    "####Create a an empty dictionary\n",
    "\n",
    "#Store the values in the dictionary using names as keys and dates as values\n",
    "\n",
    "dob_list = ['01-Jan-1990', '11-Aug-1995', '15-Apr-1982', '20-Mar-1988', '25-Nov-1976', '07-Dec-1965', \n",
    "            '18-Dec-1977', '25-May-1994', '09-Oct-1981', '19-Feb-1981']\n",
    "name_list = ['Aaron','Ben','Don','Grisham','Harry','John','Tom','Peter','Steve','Bruce']\n",
    "\n",
    "birthday_dict = dict(zip(name_list,dob_list))\n",
    "\n",
    "print (birthday_dict)\n",
    "\n"
   ]
  },
  {
   "cell_type": "code",
   "execution_count": 9,
   "metadata": {},
   "outputs": [
    {
     "name": "stdout",
     "output_type": "stream",
     "text": [
      "{'Aaron': 32, 'Ben': 27, 'Don': 40, 'Grisham': 34, 'Harry': 46, 'John': 57, 'Tom': 45, 'Peter': 28, 'Steve': 41, 'Bruce': 41}\n"
     ]
    }
   ],
   "source": [
    "####Create a an empty dictionary\n",
    "\n",
    "#Declare the current year\n",
    "\n",
    "#Run a for loop to calculate the approximate age for every scientist\n",
    "    \n",
    "    #Extract year from the Date of birth using \"split\" functionality \n",
    "    \n",
    "    #Calculate approximate age in year using the year of birth and store it in the empty dictionary using names as keys\n",
    "\n",
    "age_dict = {}\n",
    "\n",
    "current_year = 2022\n",
    "\n",
    "for name, birthdate in birthday_dict.items():\n",
    "    birth_split = birthdate.split('-')\n",
    "    birth_year = int(birth_split[2])\n",
    "    age = current_year - birth_year\n",
    "    age_dict [name] = age\n",
    "    \n",
    "print (age_dict)\n"
   ]
  }
 ],
 "metadata": {
  "kernelspec": {
   "display_name": "Python 3",
   "language": "python",
   "name": "python3"
  },
  "language_info": {
   "codemirror_mode": {
    "name": "ipython",
    "version": 3
   },
   "file_extension": ".py",
   "mimetype": "text/x-python",
   "name": "python",
   "nbconvert_exporter": "python",
   "pygments_lexer": "ipython3",
   "version": "3.8.5"
  }
 },
 "nbformat": 4,
 "nbformat_minor": 4
}
